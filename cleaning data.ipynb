{
 "cells": [
  {
   "cell_type": "code",
   "execution_count": 16,
   "metadata": {},
   "outputs": [
    {
     "name": "stdout",
     "output_type": "stream",
     "text": [
      "Index(['movie_id', 'movie_title', 'release_date', 'video_release_date',\n",
      "       'IMDb_URL', 'unknown', 'Action', 'Adventure', 'Animation', 'Childrens',\n",
      "       'Comedy', 'Crime', 'Documentary', 'Drama', 'Fantasy', 'Film_Noir',\n",
      "       'Horror', 'Musical', 'Mystery', 'Romance', 'Sci_Fi', 'Thriller', 'War',\n",
      "       'Western'],\n",
      "      dtype='object')\n",
      "Index(['movie_id', 'movie_title', 'release_date', 'IMDb_URL', 'unknown',\n",
      "       'Action', 'Adventure', 'Animation', 'Childrens', 'Comedy', 'Crime',\n",
      "       'Documentary', 'Drama', 'Fantasy', 'Film_Noir', 'Horror', 'Musical',\n",
      "       'Mystery', 'Romance', 'Sci_Fi', 'Thriller', 'War', 'Western'],\n",
      "      dtype='object')\n"
     ]
    }
   ],
   "source": [
    "#cleaning .csv files as they are few fields missing in the data set\n",
    "# Removing a column from u_items.csv as it contains only blanks\n",
    "\n",
    "import pandas as pd\n",
    "data = pd.read_csv('/Users/sindhu/Documents/movielens_data/u_item.csv')\n",
    "print(data.columns)\n",
    "data.drop('video_release_date',inplace=True, axis=1)\n",
    "print(data.columns)\n",
    "data.to_csv (r'/Users/sindhu/Documents/movielens_data/u_item_cleaned.csv',index=None)"
   ]
  },
  {
   "cell_type": "code",
   "execution_count": 51,
   "metadata": {},
   "outputs": [
    {
     "name": "stdout",
     "output_type": "stream",
     "text": [
      "     user_id  age gender     Occupation zip_code\n",
      "0          1   24      M     technician    85711\n",
      "1          2   53      F          other    94043\n",
      "2          3   23      M         writer    32067\n",
      "3          4   24      M     technician    43537\n",
      "4          5   33      F          other    15213\n",
      "..       ...  ...    ...            ...      ...\n",
      "938      939   26      F        student    33319\n",
      "939      940   32      M  administrator    02215\n",
      "940      941   20      M        student    97229\n",
      "941      942   48      F      librarian    78209\n",
      "942      943   22      M        student    77841\n",
      "\n",
      "[941 rows x 5 columns]\n"
     ]
    }
   ],
   "source": [
    "data = pd.read_csv('/Users/sindhu/Documents/movielens_data/u_user.csv')\n",
    "filtered_data = data[data['zip_code']!='00000']\n",
    "print(filtered_data)\n",
    "filtered_data.to_csv('/Users/sindhu/Documents/movielens_data/u_user_filtered.csv')"
   ]
  },
  {
   "cell_type": "code",
   "execution_count": 86,
   "metadata": {},
   "outputs": [
    {
     "name": "stdout",
     "output_type": "stream",
     "text": [
      "          genre  genre_number\n",
      "0        Action             1\n",
      "1     Adventure             2\n",
      "2     Animation             3\n",
      "3     Childrens             4\n",
      "4        Comedy             5\n",
      "5         Crime             6\n",
      "6   Documentary             7\n",
      "7         Drama             8\n",
      "8       Fantasy             9\n",
      "9     Film-Noir            10\n",
      "10       Horror            11\n",
      "11      Musical            12\n",
      "12      Mystery            13\n",
      "13      Romance            14\n",
      "14       Sci-Fi            15\n",
      "15     Thriller            16\n",
      "16          War            17\n",
      "17      Western            18\n"
     ]
    }
   ],
   "source": [
    "# replacing value in column so that value can be used as lookup data\n",
    "genre_data = pd.read_csv('/Users/sindhu/Documents/movielens_data/u_genre.csv')\n",
    "genre_data.replace(to_replace=\"Children's\",value='Childrens',inplace=True)\n",
    "print(genre_data)\n",
    "genre_data.to_csv('/Users/sindhu/Documents/movielens_data/u_genre_filtered.csv')\n"
   ]
  },
  {
   "cell_type": "code",
   "execution_count": null,
   "metadata": {},
   "outputs": [],
   "source": []
  }
 ],
 "metadata": {
  "kernelspec": {
   "display_name": "Python 3",
   "language": "python",
   "name": "python3"
  },
  "language_info": {
   "codemirror_mode": {
    "name": "ipython",
    "version": 3
   },
   "file_extension": ".py",
   "mimetype": "text/x-python",
   "name": "python",
   "nbconvert_exporter": "python",
   "pygments_lexer": "ipython3",
   "version": "3.8.5"
  }
 },
 "nbformat": 4,
 "nbformat_minor": 4
}
