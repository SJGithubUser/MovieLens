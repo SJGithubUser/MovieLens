{
 "cells": [
  {
   "cell_type": "code",
   "execution_count": 5,
   "metadata": {},
   "outputs": [],
   "source": [
    "#performing column level and row level analysis over the data\n",
    "import pandas as pd\n",
    "data = pd.read_csv('/Users/sindhu/Documents/movielens_data/u_item.csv')\n",
    "no_of_col_before_cleaning=len(data.columns)"
   ]
  },
  {
   "cell_type": "code",
   "execution_count": 7,
   "metadata": {},
   "outputs": [],
   "source": [
    "data1 = pd.read_csv('/Users/sindhu/Documents/movielens_data/u_item_cleaned.csv')\n",
    "no_of_col_after_cleaning=len(data1.columns)"
   ]
  },
  {
   "cell_type": "code",
   "execution_count": 8,
   "metadata": {},
   "outputs": [
    {
     "name": "stdout",
     "output_type": "stream",
     "text": [
      "validation successful\n"
     ]
    }
   ],
   "source": [
    "if(no_of_col_before_cleaning -1 == no_of_col_after_cleaning):\n",
    "    print('validation successful')"
   ]
  },
  {
   "cell_type": "code",
   "execution_count": 29,
   "metadata": {},
   "outputs": [
    {
     "name": "stdout",
     "output_type": "stream",
     "text": [
      "validation successful\n"
     ]
    }
   ],
   "source": [
    "#Validating total number of users comparing from info to data\n",
    "data = pd.read_csv('/Users/sindhu/Documents/movielens_data/u_data.csv')\n",
    "no_of_unique_users = data.user_id.unique()\n",
    "data1 = pd.read_csv('/Users/sindhu/Documents/movielens_data/u_info.csv')\n",
    "if(len(no_of_unique_users) <=data1.Total_count[0]):\n",
    "    print('validation successful')"
   ]
  },
  {
   "cell_type": "code",
   "execution_count": 34,
   "metadata": {},
   "outputs": [
    {
     "name": "stdout",
     "output_type": "stream",
     "text": [
      "validation successful\n"
     ]
    }
   ],
   "source": [
    "data = pd.read_csv('/Users/sindhu/Documents/movielens_data/u_data.csv')\n",
    "no_of_unique_item = data.item_id.unique()\n",
    "data1 = pd.read_csv('/Users/sindhu/Documents/movielens_data/u_info.csv')\n",
    "if(len(no_of_unique_item) <=data1.Total_count[1]):\n",
    "    print('validation successful')"
   ]
  },
  {
   "cell_type": "code",
   "execution_count": 37,
   "metadata": {},
   "outputs": [
    {
     "name": "stdout",
     "output_type": "stream",
     "text": [
      "validation successful\n"
     ]
    }
   ],
   "source": [
    "data = pd.read_csv('/Users/sindhu/Documents/movielens_data/u_data.csv')\n",
    "no_of_unique_ratings = data.rating.unique()\n",
    "data1 = pd.read_csv('/Users/sindhu/Documents/movielens_data/u_info.csv')\n",
    "if(len(no_of_unique_ratings) <=data1.Total_count[2]):\n",
    "    print('validation successful')"
   ]
  },
  {
   "cell_type": "code",
   "execution_count": null,
   "metadata": {},
   "outputs": [],
   "source": []
  }
 ],
 "metadata": {
  "kernelspec": {
   "display_name": "Python 3",
   "language": "python",
   "name": "python3"
  },
  "language_info": {
   "codemirror_mode": {
    "name": "ipython",
    "version": 3
   },
   "file_extension": ".py",
   "mimetype": "text/x-python",
   "name": "python",
   "nbconvert_exporter": "python",
   "pygments_lexer": "ipython3",
   "version": "3.8.5"
  }
 },
 "nbformat": 4,
 "nbformat_minor": 4
}
