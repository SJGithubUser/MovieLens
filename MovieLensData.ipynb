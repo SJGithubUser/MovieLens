{
 "cells": [
  {
   "cell_type": "code",
   "execution_count": 1,
   "metadata": {},
   "outputs": [
    {
     "name": "stdout",
     "output_type": "stream",
     "text": [
      "          genre  genre_number\n",
      "0        Action             1\n",
      "1     Adventure             2\n",
      "2     Animation             3\n",
      "3    Children's             4\n",
      "4        Comedy             5\n",
      "5         Crime             6\n",
      "6   Documentary             7\n",
      "7         Drama             8\n",
      "8       Fantasy             9\n",
      "9     Film-Noir            10\n",
      "10       Horror            11\n",
      "11      Musical            12\n",
      "12      Mystery            13\n",
      "13      Romance            14\n",
      "14       Sci-Fi            15\n",
      "15     Thriller            16\n",
      "16          War            17\n",
      "17      Western            18\n"
     ]
    }
   ],
   "source": [
    "##MovieLens data consists of data about the movies from 1995 to 1997\n",
    "##This data set consists of data seperated by tab\n",
    "##This data set also consists of datafor training the machine learning algorithms\n",
    "\n",
    "##Part-1 importing data and converting from txt to csv\n",
    "\n",
    "import pandas as pd\n",
    "#cleaning genre file\n",
    "read_file = pd.read_csv ('/Users/sindhu/Documents/movielens_data/u_genre.txt', sep='|')\n",
    "read_file.columns=['genre','genre_number']\n",
    "print(read_file)\n",
    "read_file.to_csv (r'/Users/sindhu/Documents/movielens_data/u_genre.csv', index=None)\n"
   ]
  },
  {
   "cell_type": "code",
   "execution_count": 43,
   "metadata": {},
   "outputs": [
    {
     "name": "stdout",
     "output_type": "stream",
     "text": [
      "       Occupation\n",
      "0   administrator\n",
      "1          artist\n",
      "2          doctor\n",
      "3        educator\n",
      "4        engineer\n",
      "5   entertainment\n",
      "6       executive\n",
      "7      healthcare\n",
      "8       homemaker\n",
      "9          lawyer\n",
      "10      librarian\n",
      "11      marketing\n",
      "12           none\n",
      "13          other\n",
      "14     programmer\n",
      "15        retired\n",
      "16       salesman\n",
      "17      scientist\n",
      "18        student\n",
      "19     technician\n",
      "20         writer\n"
     ]
    }
   ],
   "source": [
    "#cleaning occupation file\n",
    "read_file = pd.read_csv ('/Users/sindhu/Documents/movielens_data/u_occupation.txt', sep='|',header=None)\n",
    "read_file.columns=['Occupation']\n",
    "print(read_file)\n",
    "read_file.to_csv (r'/Users/sindhu/Documents/movielens_data/u_occupation.csv', index=None)"
   ]
  },
  {
   "cell_type": "code",
   "execution_count": 49,
   "metadata": {},
   "outputs": [
    {
     "name": "stdout",
     "output_type": "stream",
     "text": [
      "       user_id  item_id  rating  timestamp\n",
      "0          196      242       3  881250949\n",
      "1          186      302       3  891717742\n",
      "2           22      377       1  878887116\n",
      "3          244       51       2  880606923\n",
      "4          166      346       1  886397596\n",
      "...        ...      ...     ...        ...\n",
      "99995      880      476       3  880175444\n",
      "99996      716      204       5  879795543\n",
      "99997      276     1090       1  874795795\n",
      "99998       13      225       2  882399156\n",
      "99999       12      203       3  879959583\n",
      "\n",
      "[100000 rows x 4 columns]\n"
     ]
    }
   ],
   "source": [
    "# #cleaning data file\n",
    "read_file = pd.read_csv ('/Users/sindhu/Documents/movielens_data/u_data.txt', sep='\\t',header=None)\n",
    "read_file.columns=['user_id','item_id','rating','timestamp']\n",
    "print(read_file)\n",
    "read_file.to_csv (r'/Users/sindhu/Documents/movielens_data/u_data.csv', index=None)"
   ]
  },
  {
   "cell_type": "code",
   "execution_count": 54,
   "metadata": {},
   "outputs": [
    {
     "name": "stdout",
     "output_type": "stream",
     "text": [
      "   Total_count attribute\n",
      "0          943     users\n",
      "1         1682     items\n",
      "2       100000   ratings\n"
     ]
    }
   ],
   "source": [
    "#cleaning info file\n",
    "read_file = pd.read_csv ('/Users/sindhu/Documents/movielens_data/u_info.txt', sep=' ', header=None)\n",
    "read_file.columns=['Total_count','attribute']\n",
    "print(read_file)\n",
    "read_file.to_csv (r'/Users/sindhu/Documents/movielens_data/u_info.csv', index=None)\n"
   ]
  },
  {
   "cell_type": "code",
   "execution_count": 69,
   "metadata": {},
   "outputs": [
    {
     "name": "stdout",
     "output_type": "stream",
     "text": [
      "      movie_id                                movie_title release_date  \\\n",
      "0            1                           Toy Story (1995)  01-Jan-1995   \n",
      "1            2                           GoldenEye (1995)  01-Jan-1995   \n",
      "2            3                          Four Rooms (1995)  01-Jan-1995   \n",
      "3            4                          Get Shorty (1995)  01-Jan-1995   \n",
      "4            5                             Copycat (1995)  01-Jan-1995   \n",
      "...        ...                                        ...          ...   \n",
      "1677      1678                          Mat' i syn (1997)  06-Feb-1998   \n",
      "1678      1679                           B. Monkey (1998)  06-Feb-1998   \n",
      "1679      1680                       Sliding Doors (1998)  01-Jan-1998   \n",
      "1680      1681                        You So Crazy (1994)  01-Jan-1994   \n",
      "1681      1682  Scream of Stone (Schrei aus Stein) (1991)  08-Mar-1996   \n",
      "\n",
      "      video_release_date                                           IMDb_URL  \\\n",
      "0                    NaN  http://us.imdb.com/M/title-exact?Toy%20Story%2...   \n",
      "1                    NaN  http://us.imdb.com/M/title-exact?GoldenEye%20(...   \n",
      "2                    NaN  http://us.imdb.com/M/title-exact?Four%20Rooms%...   \n",
      "3                    NaN  http://us.imdb.com/M/title-exact?Get%20Shorty%...   \n",
      "4                    NaN  http://us.imdb.com/M/title-exact?Copycat%20(1995)   \n",
      "...                  ...                                                ...   \n",
      "1677                 NaN  http://us.imdb.com/M/title-exact?Mat%27+i+syn+...   \n",
      "1678                 NaN  http://us.imdb.com/M/title-exact?B%2E+Monkey+(...   \n",
      "1679                 NaN      http://us.imdb.com/Title?Sliding+Doors+(1998)   \n",
      "1680                 NaN  http://us.imdb.com/M/title-exact?You%20So%20Cr...   \n",
      "1681                 NaN  http://us.imdb.com/M/title-exact?Schrei%20aus%...   \n",
      "\n",
      "      unknown  Action  Adventure  Animation  Childrens  ...  Fantasy  \\\n",
      "0           0       0          0          1          1  ...        0   \n",
      "1           0       1          1          0          0  ...        0   \n",
      "2           0       0          0          0          0  ...        0   \n",
      "3           0       1          0          0          0  ...        0   \n",
      "4           0       0          0          0          0  ...        0   \n",
      "...       ...     ...        ...        ...        ...  ...      ...   \n",
      "1677        0       0          0          0          0  ...        0   \n",
      "1678        0       0          0          0          0  ...        0   \n",
      "1679        0       0          0          0          0  ...        0   \n",
      "1680        0       0          0          0          0  ...        0   \n",
      "1681        0       0          0          0          0  ...        0   \n",
      "\n",
      "      Film_Noir  Horror  Musical  Mystery  Romance  Sci_Fi  Thriller  War  \\\n",
      "0             0       0        0        0        0       0         0    0   \n",
      "1             0       0        0        0        0       0         1    0   \n",
      "2             0       0        0        0        0       0         1    0   \n",
      "3             0       0        0        0        0       0         0    0   \n",
      "4             0       0        0        0        0       0         1    0   \n",
      "...         ...     ...      ...      ...      ...     ...       ...  ...   \n",
      "1677          0       0        0        0        0       0         0    0   \n",
      "1678          0       0        0        0        1       0         1    0   \n",
      "1679          0       0        0        0        1       0         0    0   \n",
      "1680          0       0        0        0        0       0         0    0   \n",
      "1681          0       0        0        0        0       0         0    0   \n",
      "\n",
      "      Western  \n",
      "0           0  \n",
      "1           0  \n",
      "2           0  \n",
      "3           0  \n",
      "4           0  \n",
      "...       ...  \n",
      "1677        0  \n",
      "1678        0  \n",
      "1679        0  \n",
      "1680        0  \n",
      "1681        0  \n",
      "\n",
      "[1682 rows x 24 columns]\n"
     ]
    }
   ],
   "source": [
    "#cleaning item file\n",
    "read_file = pd.read_csv ('/Users/sindhu/Documents/movielens_data/u_item.txt', sep='|',encoding='latin-1',header=None)\n",
    "read_file.columns=['movie_id', 'movie_title', 'release_date', 'video_release_date','IMDb_URL','unknown','Action', 'Adventure' ,'Animation',\n",
    "              'Childrens' , 'Comedy' , 'Crime' ,'Documentary' , 'Drama' , 'Fantasy' ,\n",
    "              'Film_Noir' , 'Horror' , 'Musical' , 'Mystery' , 'Romance' , 'Sci_Fi' ,\n",
    "              'Thriller' , 'War' , 'Western' ]\n",
    "print(read_file)\n",
    "read_file.to_csv (r'/Users/sindhu/Documents/movielens_data/u_item.csv',index=None)\n"
   ]
  },
  {
   "cell_type": "code",
   "execution_count": 60,
   "metadata": {},
   "outputs": [
    {
     "name": "stdout",
     "output_type": "stream",
     "text": [
      "     user_id  age gender     Occupation zip_code\n",
      "0          1   24      M     technician    85711\n",
      "1          2   53      F          other    94043\n",
      "2          3   23      M         writer    32067\n",
      "3          4   24      M     technician    43537\n",
      "4          5   33      F          other    15213\n",
      "..       ...  ...    ...            ...      ...\n",
      "938      939   26      F        student    33319\n",
      "939      940   32      M  administrator    02215\n",
      "940      941   20      M        student    97229\n",
      "941      942   48      F      librarian    78209\n",
      "942      943   22      M        student    77841\n",
      "\n",
      "[943 rows x 5 columns]\n"
     ]
    }
   ],
   "source": [
    "#cleaning user file\n",
    "read_file = pd.read_csv ('/Users/sindhu/Documents/movielens_data/u_user.txt', sep='|',header=None)\n",
    "read_file.columns=['user_id','age','gender','Occupation','zip_code']\n",
    "print(read_file)\n",
    "read_file.to_csv (r'/Users/sindhu/Documents/movielens_data/u_user.csv', index=None)"
   ]
  }
 ],
 "metadata": {
  "kernelspec": {
   "display_name": "Python 3",
   "language": "python",
   "name": "python3"
  },
  "language_info": {
   "codemirror_mode": {
    "name": "ipython",
    "version": 3
   },
   "file_extension": ".py",
   "mimetype": "text/x-python",
   "name": "python",
   "nbconvert_exporter": "python",
   "pygments_lexer": "ipython3",
   "version": "3.8.5"
  }
 },
 "nbformat": 4,
 "nbformat_minor": 4
}
